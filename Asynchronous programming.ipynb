{
 "cells": [
  {
   "cell_type": "markdown",
   "metadata": {},
   "source": [
    "multiprocess"
   ]
  },
  {
   "cell_type": "code",
   "execution_count": null,
   "metadata": {},
   "outputs": [],
   "source": [
    "# \n",
    "from multiprocessing import Process\n",
    "import time\n",
    "start = time.perf_counter()\n",
    "def func():\n",
    "    print(\"satrting a process\")\n",
    "    time.sleep(1)\n",
    "    print(\"ending process\")\n",
    "prs = [Process(target = func) for _ in range(10)]\n",
    "for i in prs:\n",
    "    i.start()\n",
    "print(\"working\")\n",
    "for p in prs:\n",
    "    p.join()\n",
    "end = time.perf_counter()\n",
    "print(f\"time required is {round(end-start,2)}\")"
   ]
  },
  {
   "cell_type": "code",
   "execution_count": null,
   "metadata": {},
   "outputs": [],
   "source": []
  },
  {
   "cell_type": "code",
   "execution_count": null,
   "metadata": {},
   "outputs": [],
   "source": []
  },
  {
   "cell_type": "raw",
   "metadata": {},
   "source": [
    "sleeping of 1 \n",
    "sleeping of 2 \n",
    "sleeping of 3 \n",
    "sleeping of 4 \n",
    "sleeping of 5 \n",
    "done sleeping for 1 \n",
    "done sleeping for 2 \n",
    "done sleeping for 3 \n",
    "done sleeping for 4 \n",
    "done sleeping for 5 \n",
    "end of process"
   ]
  },
  {
   "cell_type": "code",
   "execution_count": null,
   "metadata": {},
   "outputs": [],
   "source": [
    "# using process pole executre\n",
    "# prints the outputs in the order they came after completing the process\n",
    "import concurrent.futures\n",
    "import time\n",
    "def fun(seconds):\n",
    "    print(f\"sleeping of {seconds} \")\n",
    "    time.sleep(seconds)\n",
    "    return f\"done sleeping for {seconds} \"\n",
    "with concurrent.futures.ProcessPoolExecutor() as executer:\n",
    "    seconds = [5,4,3,2,1]\n",
    "    results = [executer.submit(fun,i) for i in seconds]\n",
    "    for f in concurrent.futures.as_completed(results):\n",
    "        print(f.result())\n",
    "print(\"end of process\")"
   ]
  },
  {
   "cell_type": "raw",
   "metadata": {},
   "source": [
    "sleeping of 4 \n",
    "sleeping of 3 \n",
    "sleeping of 2 \n",
    "sleeping of 5 \n",
    "sleeping of 1 \n",
    "done sleeping for 2 \n",
    "done sleeping for 1 \n",
    "done sleeping for 3 \n",
    "done sleeping for 4 \n",
    "done sleeping for 5 "
   ]
  },
  {
   "cell_type": "code",
   "execution_count": null,
   "metadata": {},
   "outputs": [],
   "source": [
    "##### therading "
   ]
  },
  {
   "cell_type": "code",
   "execution_count": 2,
   "metadata": {},
   "outputs": [],
   "source": [
    "from threading import Thread"
   ]
  },
  {
   "cell_type": "code",
   "execution_count": null,
   "metadata": {},
   "outputs": [],
   "source": [
    "# threading \n",
    "from threading import Thread\n",
    "import time\n",
    "start = time.perf_counter()\n",
    "def fun(seconds):\n",
    "    print(f\"weighting for {seconds}\")\n",
    "    time.sleep(seconds)\n",
    "    print(f\"sleeping for {seconds} done\")\n",
    "seconds = [5,4,3,2,1]\n",
    "threads = [Thread(target = fun,args = [i]) for i in seconds]\n",
    "for i in threads:\n",
    "    i.start()\n",
    "print(\"started the task\")\n",
    "for i in threads:\n",
    "    i.join()\n",
    "end = time.perf_counter()\n",
    "print(f\"time taken {round(end-start,3)}\")\n",
    "\n"
   ]
  },
  {
   "cell_type": "raw",
   "metadata": {},
   "source": [
    "weighting for 5\n",
    "weighting for 4\n",
    "weighting for 3\n",
    "weighting for 2\n",
    "weighting for 1\n",
    "started the task\n",
    "sleeping for 1 done\n",
    "sleeping for 2 done\n",
    "sleeping for 3 done\n",
    "sleeping for 4 done\n",
    "sleeping for 5 done\n",
    "time taken 5.006"
   ]
  },
  {
   "cell_type": "code",
   "execution_count": null,
   "metadata": {},
   "outputs": [],
   "source": [
    "# we are using queue datastructure since it has all the locking mechanish i.e. it will weight for any changes in queue if queue is empty\n",
    "# shopkipper can do other task when client is counting money\n",
    "from threading import Thread\n",
    "from queue import Queue\n",
    "def producer(q):\n",
    "    for i in range(5):\n",
    "        q.put(i)\n",
    "        print(f\"publishing {i}th contomer\")\n",
    "        \n",
    "def consumer(q):\n",
    "    for i in range(5):\n",
    "        data = q.get()\n",
    "        print(f\"consuemer {i} been served\")\n",
    "        \n",
    "# queue remained at weit state till producer function fills some value to it\n",
    "q = Queue()\n",
    "prod = Thread(target = producer,args = [q])\n",
    "cons = Thread(target = consumer,args = [q])\n",
    "cons.start()\n",
    "prod.start()\n",
    "prod.join()\n",
    "cons.join()\n"
   ]
  },
  {
   "cell_type": "raw",
   "metadata": {},
   "source": [
    "publishing 0th contomer\n",
    "publishing 1th contomer\n",
    "publishing 2th contomer\n",
    "publishing 3th contomer\n",
    "consuemer 0 been served\n",
    "consuemer 1 been served\n",
    "consuemer 2 been served\n",
    "consuemer 3 been served\n",
    "consuemer 4 been served\n",
    "publishing 4th contomer\n",
    "> "
   ]
  },
  {
   "cell_type": "code",
   "execution_count": null,
   "metadata": {},
   "outputs": [],
   "source": [
    "# coroutines\n",
    "# these are used in asyncio to make asynchronous programming more controlled by users"
   ]
  },
  {
   "cell_type": "code",
   "execution_count": 3,
   "metadata": {},
   "outputs": [
    {
     "name": "stdout",
     "output_type": "stream",
     "text": [
      "<class 'generator'>\n",
      "cool Raman\n",
      "cool Arya\n",
      "done\n"
     ]
    }
   ],
   "source": [
    "def print_name(prefix):\n",
    "    try:\n",
    "        while True:\n",
    "            name = (yield)\n",
    "            print(prefix + \" \"+ name)\n",
    "    except GeneratorExit:\n",
    "        print(\"done\")\n",
    "co = print_name(\"cool\")\n",
    "print(type(co)) # generator obj tha will act as coroutine\n",
    "next(co) # initializing coroutine\n",
    "co.send(\"Raman\")\n",
    "co.send(\"Arya\")\n",
    "co.close() # raises exception and hence terminates inf loop"
   ]
  },
  {
   "cell_type": "code",
   "execution_count": null,
   "metadata": {},
   "outputs": [],
   "source": [
    "## asyncio introduction"
   ]
  },
  {
   "cell_type": "code",
   "execution_count": null,
   "metadata": {},
   "outputs": [],
   "source": [
    "import asyncio\n",
    "import time\n",
    "# defining a couroutine\n",
    "# which returns async object\n",
    "# await statement returns coroutine of which execution time is n seconds\n",
    "async def waiter(n):\n",
    "    await asyncio.sleep(n)\n",
    "    print(f\"weighter for {n} seconds\")\n",
    "async def main():\n",
    "    print(time.strftime('%x'))\n",
    "    await waiter(3)\n",
    "    await waiter(2)\n",
    "    print(time.strftime('%x'))\n",
    "if __name__ == '__main__':\n",
    "    asyncio.run(main())\n",
    "# in reality we got that it took 5 seconds of time to execute"
   ]
  },
  {
   "cell_type": "raw",
   "metadata": {},
   "source": [
    "11/08/20\n",
    "weighter for 3 seconds\n",
    "weighter for 2 seconds\n",
    "11/08/20"
   ]
  },
  {
   "cell_type": "code",
   "execution_count": null,
   "metadata": {},
   "outputs": [],
   "source": [
    "# to make them work asynchronously we have to convert them to task"
   ]
  },
  {
   "cell_type": "code",
   "execution_count": null,
   "metadata": {},
   "outputs": [],
   "source": [
    "import asyncio\n",
    "import time\n",
    "# defining a couroutine\n",
    "# which returns async object\n",
    "# await statement returns coroutine of which execution time is n seconds\n",
    "async def waiter(n):\n",
    "    await asyncio.sleep(n)\n",
    "    # await means weight for results\n",
    "    print(f\"weighter for {n} seconds\")\n",
    "async def main():\n",
    "    print(time.strftime('%x'))\n",
    "    task1 = asyncio.create_task(waiter(2))\n",
    "    task2 = asyncio.create_task(waiter(3))\n",
    "    # now both the task will happen concurrently\n",
    "    await task1\n",
    "    await task2\n",
    "    print(time.strftime('%x'))\n",
    "if __name__ == '__main__':\n",
    "    asyncio.run(main())\n",
    "    \n",
    "# this will take 3 seconds since both the tasks are taking place in parallel   "
   ]
  },
  {
   "cell_type": "raw",
   "metadata": {},
   "source": [
    "11/08/20\n",
    "weighter for 2 seconds\n",
    "weighter for 3 seconds\n",
    "11/08/20"
   ]
  }
 ],
 "metadata": {
  "kernelspec": {
   "display_name": "Python 3",
   "language": "python",
   "name": "python3"
  },
  "language_info": {
   "codemirror_mode": {
    "name": "ipython",
    "version": 3
   },
   "file_extension": ".py",
   "mimetype": "text/x-python",
   "name": "python",
   "nbconvert_exporter": "python",
   "pygments_lexer": "ipython3",
   "version": "3.8.1"
  }
 },
 "nbformat": 4,
 "nbformat_minor": 4
}
